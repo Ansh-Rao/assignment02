{
 "cells": [
  {
   "cell_type": "markdown",
   "id": "f7719481-8de1-4a9d-98e0-116c3276c803",
   "metadata": {},
   "source": [
    "Q1. How do you comment code in Python? What are the different types of comments ? "
   ]
  },
  {
   "cell_type": "code",
   "execution_count": 34,
   "id": "cc1d84d9-6496-4684-a8fc-66c03a0968a6",
   "metadata": {},
   "outputs": [],
   "source": [
    "# we do comment code by using \" # \" and \" ''' \" symbol.\n",
    "\n",
    "# there are two different type of comments :-\n",
    "#    (i)  #  -\n",
    "#               this is use to comment a perticular line .\n",
    "\n",
    "#    (ii) ''' or \"\"\"  -\n",
    "#                       this is use to comment whole paragraph.\n",
    "\n",
    "   \n",
    "#  ( ex- i wrote this answer using comment ) "
   ]
  },
  {
   "cell_type": "code",
   "execution_count": null,
   "id": "865ab4df-1aa4-4e5a-89b8-6d2df25f2d35",
   "metadata": {},
   "outputs": [],
   "source": []
  },
  {
   "cell_type": "markdown",
   "id": "65ac6926-ffa9-4025-be4f-2a5885dbf7f0",
   "metadata": {},
   "source": [
    "Q2. What are variables in Python? How do you declare and assign values to variables?"
   ]
  },
  {
   "cell_type": "code",
   "execution_count": 16,
   "id": "521de19b-d95d-4eef-a502-a86cf2f7de70",
   "metadata": {},
   "outputs": [],
   "source": [
    "# variables are a symbolic name that is a reference to an object , associated with a piece of information ."
   ]
  },
  {
   "cell_type": "code",
   "execution_count": 25,
   "id": "17356457-394b-4e6d-a7dc-b4bb646262bc",
   "metadata": {},
   "outputs": [],
   "source": [
    "# let declare a variable \n",
    " \n",
    "l1=[]\n"
   ]
  },
  {
   "cell_type": "code",
   "execution_count": 22,
   "id": "9a446c92-0659-445c-85d4-5d6ab3f7114e",
   "metadata": {},
   "outputs": [],
   "source": [
    "l2=[2,4,\"ansh\"]"
   ]
  },
  {
   "cell_type": "code",
   "execution_count": 26,
   "id": "162ece86-6b28-4be1-95aa-c3ac30dcbffa",
   "metadata": {},
   "outputs": [],
   "source": [
    "# assign values to variables\n",
    "\n",
    "l1=l2"
   ]
  },
  {
   "cell_type": "code",
   "execution_count": 27,
   "id": "b96470cf-7865-4ddf-a38e-5f88310a3e00",
   "metadata": {},
   "outputs": [
    {
     "data": {
      "text/plain": [
       "[2, 4, 'ansh']"
      ]
     },
     "execution_count": 27,
     "metadata": {},
     "output_type": "execute_result"
    }
   ],
   "source": [
    "l1"
   ]
  },
  {
   "cell_type": "code",
   "execution_count": null,
   "id": "04a0d777-a204-4b9e-8cd8-3bff829d25fa",
   "metadata": {},
   "outputs": [],
   "source": []
  },
  {
   "cell_type": "markdown",
   "id": "d6245df9-b7a1-4e90-8167-ae3f68d71026",
   "metadata": {},
   "source": [
    "Q3. How do you convert one data type to another in Python?"
   ]
  },
  {
   "cell_type": "code",
   "execution_count": 36,
   "id": "bb8f8929-c182-4b20-b942-ad3cd6436e07",
   "metadata": {},
   "outputs": [],
   "source": [
    "a=56"
   ]
  },
  {
   "cell_type": "code",
   "execution_count": 37,
   "id": "2cb84505-c8a0-4469-899a-494e58d38201",
   "metadata": {},
   "outputs": [
    {
     "data": {
      "text/plain": [
       "56"
      ]
     },
     "execution_count": 37,
     "metadata": {},
     "output_type": "execute_result"
    }
   ],
   "source": [
    "a"
   ]
  },
  {
   "cell_type": "code",
   "execution_count": 38,
   "id": "1746f0b8-bd9d-4d6e-99fa-52cbc5af84c8",
   "metadata": {},
   "outputs": [
    {
     "data": {
      "text/plain": [
       "int"
      ]
     },
     "execution_count": 38,
     "metadata": {},
     "output_type": "execute_result"
    }
   ],
   "source": [
    "type(a)"
   ]
  },
  {
   "cell_type": "code",
   "execution_count": 39,
   "id": "8367b278-4ebc-48c4-bf60-d6a9ff3739c7",
   "metadata": {},
   "outputs": [
    {
     "data": {
      "text/plain": [
       "56.0"
      ]
     },
     "execution_count": 39,
     "metadata": {},
     "output_type": "execute_result"
    }
   ],
   "source": [
    "float(a)"
   ]
  },
  {
   "cell_type": "code",
   "execution_count": 40,
   "id": "6c058d01-99f8-4fbd-856d-98bb3c137ad5",
   "metadata": {},
   "outputs": [
    {
     "data": {
      "text/plain": [
       "'56'"
      ]
     },
     "execution_count": 40,
     "metadata": {},
     "output_type": "execute_result"
    }
   ],
   "source": [
    "str(a)"
   ]
  },
  {
   "cell_type": "code",
   "execution_count": 43,
   "id": "858760d1-6906-41f1-82c1-2fbc66749191",
   "metadata": {},
   "outputs": [
    {
     "data": {
      "text/plain": [
       "list[56]"
      ]
     },
     "execution_count": 43,
     "metadata": {},
     "output_type": "execute_result"
    }
   ],
   "source": [
    "list[a]"
   ]
  },
  {
   "cell_type": "code",
   "execution_count": 44,
   "id": "e42dafae-7e83-4169-a6c7-cf33d8cd9807",
   "metadata": {},
   "outputs": [
    {
     "data": {
      "text/plain": [
       "range(0, 56)"
      ]
     },
     "execution_count": 44,
     "metadata": {},
     "output_type": "execute_result"
    }
   ],
   "source": [
    "range(a)"
   ]
  },
  {
   "cell_type": "code",
   "execution_count": null,
   "id": "93ce7fcf-8811-4b32-bfc3-22418d1b4aa6",
   "metadata": {},
   "outputs": [],
   "source": []
  },
  {
   "cell_type": "code",
   "execution_count": null,
   "id": "0246f37b-5a9f-4a94-b527-307ded7f8ab8",
   "metadata": {},
   "outputs": [],
   "source": []
  },
  {
   "cell_type": "markdown",
   "id": "7f63e62f-da81-4225-80fb-995f3b3ff653",
   "metadata": {},
   "source": [
    "Q4. How do you write and execute a Python script from the command line?"
   ]
  },
  {
   "cell_type": "code",
   "execution_count": 46,
   "id": "72e8ec11-937c-484c-be26-9a070118640d",
   "metadata": {},
   "outputs": [],
   "source": [
    "#  we need to open a command line and type the word python followed by the path to our script and press enter to run."
   ]
  },
  {
   "cell_type": "code",
   "execution_count": null,
   "id": "0a1a5230-faba-4f75-8dae-f18a195103ec",
   "metadata": {},
   "outputs": [],
   "source": []
  },
  {
   "cell_type": "code",
   "execution_count": null,
   "id": "c0d826ca-dde8-46c8-bfa3-90039938bba9",
   "metadata": {},
   "outputs": [],
   "source": []
  },
  {
   "cell_type": "markdown",
   "id": "a1c721d8-451a-4006-9606-152ed52c6a57",
   "metadata": {},
   "source": [
    "Q5. Given a list my_list = [1, 2, 3, 4, 5], write the code to slice the list and obtain the sub-list [2, 3]."
   ]
  },
  {
   "cell_type": "code",
   "execution_count": 1,
   "id": "598c9f39-7d2c-42fa-a6ee-948b269b0d8b",
   "metadata": {},
   "outputs": [],
   "source": [
    "my_list= [1,2,3,4,5]"
   ]
  },
  {
   "cell_type": "code",
   "execution_count": 2,
   "id": "780fc3bc-67fb-4afd-b66a-235137f217d0",
   "metadata": {},
   "outputs": [
    {
     "data": {
      "text/plain": [
       "[2, 3]"
      ]
     },
     "execution_count": 2,
     "metadata": {},
     "output_type": "execute_result"
    }
   ],
   "source": [
    "my_list[1:3]"
   ]
  },
  {
   "cell_type": "code",
   "execution_count": null,
   "id": "6b74cd2b-3e17-4834-8d44-7796894c1ade",
   "metadata": {},
   "outputs": [],
   "source": []
  },
  {
   "cell_type": "markdown",
   "id": "9b8a22f0-df1b-48a2-894a-9eda26542da4",
   "metadata": {},
   "source": [
    "Q6. What is a complex number in mathematics, and how is it represented in Python?"
   ]
  },
  {
   "cell_type": "code",
   "execution_count": 5,
   "id": "a023fe6b-6b31-4e53-823d-088105604979",
   "metadata": {},
   "outputs": [],
   "source": [
    "# Complex number in mathematics is a number which can be represented in the form of x+iy, where 'i' is an imaginary number ,\n",
    "# but here in python we can represent it in the form of \" x=jy \" (use 'j' on place of 'i' )"
   ]
  },
  {
   "cell_type": "code",
   "execution_count": 6,
   "id": "0880a638-0957-4c54-a936-4602ba35b1bb",
   "metadata": {},
   "outputs": [],
   "source": [
    "# it is represent as -\n",
    "\n",
    "c=5+4j"
   ]
  },
  {
   "cell_type": "code",
   "execution_count": 7,
   "id": "41fff319-6463-4b2a-84f4-a10bf4322649",
   "metadata": {},
   "outputs": [
    {
     "data": {
      "text/plain": [
       "complex"
      ]
     },
     "execution_count": 7,
     "metadata": {},
     "output_type": "execute_result"
    }
   ],
   "source": [
    "type(c)"
   ]
  },
  {
   "cell_type": "code",
   "execution_count": null,
   "id": "2fe38e0f-6ee3-4ec1-8730-e4636360735f",
   "metadata": {},
   "outputs": [],
   "source": []
  },
  {
   "cell_type": "markdown",
   "id": "94633ec8-4efd-490a-960f-e62210deddc1",
   "metadata": {},
   "source": [
    "Q7. What is the correct way to declare a variable named age and assign the value 25 to it?"
   ]
  },
  {
   "cell_type": "code",
   "execution_count": 8,
   "id": "77230673-4c33-46d1-aba8-3c0e4900bf7e",
   "metadata": {},
   "outputs": [],
   "source": [
    "#To declare an integer variable −\n",
    "\n",
    "#  (i) Name the variable\n",
    "# (ii) Assign an integer value to it"
   ]
  },
  {
   "cell_type": "code",
   "execution_count": 9,
   "id": "19c451b6-92bd-40d7-8e32-6d7b737b3990",
   "metadata": {},
   "outputs": [],
   "source": [
    "age=25"
   ]
  },
  {
   "cell_type": "code",
   "execution_count": 10,
   "id": "883a339a-6a3e-448c-8f4c-d6b619117f06",
   "metadata": {},
   "outputs": [
    {
     "data": {
      "text/plain": [
       "int"
      ]
     },
     "execution_count": 10,
     "metadata": {},
     "output_type": "execute_result"
    }
   ],
   "source": [
    "type(age)"
   ]
  },
  {
   "cell_type": "code",
   "execution_count": null,
   "id": "2ff73d09-bf55-483c-aeef-7eac485a577c",
   "metadata": {},
   "outputs": [],
   "source": []
  },
  {
   "cell_type": "markdown",
   "id": "e18961a5-7a14-4bb7-ab34-403cdae57e01",
   "metadata": {},
   "source": [
    "Q8. Declare a variable named price and assign the value 9.99 to it. What data type does this variable \n",
    "belong to"
   ]
  },
  {
   "cell_type": "code",
   "execution_count": 11,
   "id": "0dad46ef-7dff-4b15-8603-329b6125bc7c",
   "metadata": {},
   "outputs": [],
   "source": [
    "price=9.99"
   ]
  },
  {
   "cell_type": "code",
   "execution_count": 12,
   "id": "58d372e2-8170-409e-88aa-b77c6ce7ea4b",
   "metadata": {},
   "outputs": [
    {
     "data": {
      "text/plain": [
       "float"
      ]
     },
     "execution_count": 12,
     "metadata": {},
     "output_type": "execute_result"
    }
   ],
   "source": [
    "type(price)"
   ]
  },
  {
   "cell_type": "code",
   "execution_count": null,
   "id": "c8a1bc49-7576-4c4a-97d9-2f8933963698",
   "metadata": {},
   "outputs": [],
   "source": []
  },
  {
   "cell_type": "markdown",
   "id": "78d05c8b-c9dc-415c-9c24-0befe1801f85",
   "metadata": {},
   "source": [
    "Q9. Create a variable named name and assign your full name to it as a string. How would you print the \n",
    "value of this variable?"
   ]
  },
  {
   "cell_type": "code",
   "execution_count": 13,
   "id": "00cfd015-2637-4905-8740-a829ba5608d8",
   "metadata": {},
   "outputs": [],
   "source": [
    "name=\"Ansh Rao\""
   ]
  },
  {
   "cell_type": "code",
   "execution_count": 14,
   "id": "e5923aec-e60c-48bd-8f46-3eb5aa8620dc",
   "metadata": {},
   "outputs": [
    {
     "data": {
      "text/plain": [
       "str"
      ]
     },
     "execution_count": 14,
     "metadata": {},
     "output_type": "execute_result"
    }
   ],
   "source": [
    "type(name)"
   ]
  },
  {
   "cell_type": "code",
   "execution_count": 17,
   "id": "cb3249a6-8e9e-4697-b483-ba45a85a9f8f",
   "metadata": {},
   "outputs": [
    {
     "name": "stdout",
     "output_type": "stream",
     "text": [
      "Ansh Rao\n"
     ]
    }
   ],
   "source": [
    "print(name)    # printing the value of the variable "
   ]
  },
  {
   "cell_type": "code",
   "execution_count": null,
   "id": "6d4f372c-d992-444d-91a6-067aca8bc5f7",
   "metadata": {},
   "outputs": [],
   "source": []
  },
  {
   "cell_type": "markdown",
   "id": "65ef4746-db1c-4289-ae7f-fc268baa5256",
   "metadata": {},
   "source": [
    "Q10. Given the string \"Hello, World!\", extract the substring \"World\""
   ]
  },
  {
   "cell_type": "code",
   "execution_count": 30,
   "id": "da765d7c-5390-463d-923b-a161e7ab4d35",
   "metadata": {},
   "outputs": [],
   "source": [
    "s=\"Hello, World!\""
   ]
  },
  {
   "cell_type": "code",
   "execution_count": 31,
   "id": "e7df555e-e05a-43b4-afcb-f31863676094",
   "metadata": {},
   "outputs": [
    {
     "data": {
      "text/plain": [
       "'World'"
      ]
     },
     "execution_count": 31,
     "metadata": {},
     "output_type": "execute_result"
    }
   ],
   "source": [
    "s[7:12]"
   ]
  },
  {
   "cell_type": "code",
   "execution_count": null,
   "id": "91b247a8-7463-4a7c-a62b-845ab577e20a",
   "metadata": {},
   "outputs": [],
   "source": []
  },
  {
   "cell_type": "markdown",
   "id": "24dc10d0-2aeb-4d2e-adf1-d6222407630d",
   "metadata": {},
   "source": [
    "Q11. Create a variable named \"is_student\" and assign it a boolean value indicating whether you are \n",
    "currently a student or not"
   ]
  },
  {
   "cell_type": "code",
   "execution_count": 40,
   "id": "e36034f2-e699-4f0b-9633-1d31951de046",
   "metadata": {},
   "outputs": [],
   "source": [
    "is_student=True"
   ]
  },
  {
   "cell_type": "code",
   "execution_count": 41,
   "id": "e4956906-6190-455b-9d71-bcb28c8136e9",
   "metadata": {},
   "outputs": [
    {
     "data": {
      "text/plain": [
       "True"
      ]
     },
     "execution_count": 41,
     "metadata": {},
     "output_type": "execute_result"
    }
   ],
   "source": [
    "is_student"
   ]
  },
  {
   "cell_type": "code",
   "execution_count": null,
   "id": "323a98c1-b43d-4c73-84cc-e2dad9c2992f",
   "metadata": {},
   "outputs": [],
   "source": []
  }
 ],
 "metadata": {
  "kernelspec": {
   "display_name": "Python 3 (ipykernel)",
   "language": "python",
   "name": "python3"
  },
  "language_info": {
   "codemirror_mode": {
    "name": "ipython",
    "version": 3
   },
   "file_extension": ".py",
   "mimetype": "text/x-python",
   "name": "python",
   "nbconvert_exporter": "python",
   "pygments_lexer": "ipython3",
   "version": "3.10.8"
  }
 },
 "nbformat": 4,
 "nbformat_minor": 5
}
